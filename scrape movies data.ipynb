{
 "cells": [
  {
   "cell_type": "raw",
   "metadata": {
    "collapsed": true,
    "pycharm": {
     "name": "#%% raw\n"
    }
   },
   "source": [
    "Movie-Scrapper\n",
    "Half of the fun of watching a movie is choosing what you are going to watch. But where do you begin? Due to the sheer amount of choices available, it can be quite difficult to pick one movie to watch.\n",
    "Have you ever been confused by a large array of movies about which you know nothing?\n",
    "\n",
    "Sad – Drama\n",
    "Disgust – Musical\n",
    "Anger – Family\n",
    "Anticipation – Thriller\n",
    "Fear – Sport\n",
    "Enjoyment – Thriller\n",
    "Trust – Western\n",
    "Surprise – Film-Noir\n",
    "\n",
    "It's a python project that suggest movies based on your present emotion/mood on real time without using any Databases.\n",
    "\n",
    "Problem Domain:\n",
    "Problems: -\n",
    "Large number of unsorted movies are available online.\n",
    "Viewer is unable to find the movies that he/she wants to watch.\n",
    "Movies are not available on the basis of mood/emotion of the user.\n",
    "Existing software doesn’t suggest movies to improve viewer’s mood.\n",
    "\n",
    "Suggested Solutions: -\n",
    "We are making a software that is based on the present mood of the user.\n",
    "This software will give movie suggestion to the viewer according to their present mood.\n",
    "This software will suggest them latest and trending movies on their mood from a large variety of movies online by “Web Scraping”.\n",
    "Purpose of the project: -\n",
    "The main purpose of the software is to suggest a list of movies to the viewer, from the large amount of content available online, based on his/her emotion.\n",
    "Another purpose is to suggest list of latest and trending movies.\n",
    "An improvement over the existing system: -\n",
    "We are suggesting movies based on ‘Human Emotion’ or their present mood, which is not present in the existing system.\n",
    "\n",
    "Rather than storing movies on database we are using “Web Scraping” to suggest latest featured films using internet.\n",
    "\n",
    "Expected Outcomes/ Benefits: -\n",
    "\n",
    "Outcome: - “List of latest featured movies based on the user’s input i.e. mood of user/emotion.”\n"
   ],
   "outputs": []
  }
 ],
 "metadata": {
  "kernelspec": {
   "display_name": "Python 3",
   "language": "python",
   "name": "python3"
  },
  "language_info": {
   "codemirror_mode": {
    "name": "ipython",
    "version": 2
   },
   "file_extension": ".py",
   "mimetype": "text/x-python",
   "name": "python",
   "nbconvert_exporter": "python",
   "pygments_lexer": "ipython2",
   "version": "2.7.6"
  }
 },
 "nbformat": 4,
 "nbformat_minor": 0
}